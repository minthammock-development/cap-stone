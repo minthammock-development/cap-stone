{
  "nbformat": 4,
  "nbformat_minor": 0,
  "metadata": {
    "colab": {
      "name": "capstone_notebook.ipynb",
      "provenance": [],
      "collapsed_sections": [],
      "machine_shape": "hm",
      "mount_file_id": "1ozzHkIrMp0yV9rjeGQi4viFIDrDzwxur",
      "authorship_tag": "ABX9TyPww9copNM9dJUHUjE+v2zH",
      "include_colab_link": true
    },
    "kernelspec": {
      "name": "python3",
      "display_name": "Python 3"
    },
    "accelerator": "GPU"
  },
  "cells": [
    {
      "cell_type": "markdown",
      "metadata": {
        "id": "view-in-github",
        "colab_type": "text"
      },
      "source": [
        "<a href=\"https://colab.research.google.com/github/minthammock/cap-stone/blob/dev/capstone_notebook.ipynb\" target=\"_parent\"><img src=\"https://colab.research.google.com/assets/colab-badge.svg\" alt=\"Open In Colab\"/></a>"
      ]
    },
    {
      "cell_type": "code",
      "metadata": {
        "id": "wPcyvjfrltvS"
      },
      "source": [
        "import tensorflow\r\n",
        "import tensorflow.keras as keras\r\n",
        "from keras.preprocessing.sequence import pad_sequences\r\n",
        "from keras.layers import Input, Dense, LSTM, Embedding\r\n",
        "from keras.layers import Dropout, Activation, Bidirectional, GlobalMaxPool1D, GlobalAveragePooling1D\r\n",
        "from keras.models import Sequential\r\n",
        "from keras import initializers, regularizers, constraints, optimizers, layers\r\n",
        "from keras.preprocessing import text, sequence\r\n",
        "from tensorflow.keras.layers.experimental.preprocessing import TextVectorization\r\n",
        "from keras.callbacks import EarlyStopping, ModelCheckpoint, ReduceLROnPlateau\r\n",
        "\r\n",
        "from sklearn.model_selection import train_test_split\r\n",
        "\r\n",
        "from gensim.models import Word2Vec\r\n",
        "import nltk\r\n",
        "from nltk import word_tokenize\r\n",
        "\r\n",
        "import pandas as pd\r\n",
        "import numpy as np\r\n",
        "\r\n",
        "import os"
      ],
      "execution_count": 112,
      "outputs": []
    },
    {
      "cell_type": "markdown",
      "metadata": {
        "id": "iOlBtapAUqSl"
      },
      "source": [
        "# Copy the repo from Github"
      ]
    },
    {
      "cell_type": "code",
      "metadata": {
        "colab": {
          "base_uri": "https://localhost:8080/"
        },
        "id": "do1_8JGO8o6l",
        "outputId": "c98f04fa-d8d0-45f8-9f77-16edacc22537"
      },
      "source": [
        "! git clone https://github.com/minthammock/cap-stone"
      ],
      "execution_count": 2,
      "outputs": [
        {
          "output_type": "stream",
          "text": [
            "Cloning into 'cap-stone'...\n",
            "remote: Enumerating objects: 23, done.\u001b[K\n",
            "remote: Counting objects: 100% (23/23), done.\u001b[K\n",
            "remote: Compressing objects: 100% (17/17), done.\u001b[K\n",
            "remote: Total 23 (delta 3), reused 16 (delta 1), pack-reused 0\u001b[K\n",
            "Unpacking objects: 100% (23/23), done.\n"
          ],
          "name": "stdout"
        }
      ]
    },
    {
      "cell_type": "markdown",
      "metadata": {
        "id": "EFYnm2RZVKYq"
      },
      "source": [
        "# Load up and Explore the data"
      ]
    },
    {
      "cell_type": "code",
      "metadata": {
        "id": "ve4GOZYz88Wt"
      },
      "source": [
        "dfTemp = pd.read_json('./cap-stone/politifact_info.json', orient='', )\r\n",
        "df = pd.DataFrame()\r\n",
        "for column in dfTemp.columns:\r\n",
        "  df[column] = dfTemp[column][0]"
      ],
      "execution_count": 3,
      "outputs": []
    },
    {
      "cell_type": "code",
      "metadata": {
        "colab": {
          "base_uri": "https://localhost:8080/",
          "height": 533
        },
        "id": "lHGSqIcu9sGB",
        "outputId": "a8f6dbf3-6d20-4e6a-9897-dcd50d39bd06"
      },
      "source": [
        "display(df.head())\r\n",
        "display(df.describe())\r\n",
        "display(df['truth_value'].value_counts())"
      ],
      "execution_count": 4,
      "outputs": [
        {
          "output_type": "display_data",
          "data": {
            "text/html": [
              "<div>\n",
              "<style scoped>\n",
              "    .dataframe tbody tr th:only-of-type {\n",
              "        vertical-align: middle;\n",
              "    }\n",
              "\n",
              "    .dataframe tbody tr th {\n",
              "        vertical-align: top;\n",
              "    }\n",
              "\n",
              "    .dataframe thead th {\n",
              "        text-align: right;\n",
              "    }\n",
              "</style>\n",
              "<table border=\"1\" class=\"dataframe\">\n",
              "  <thead>\n",
              "    <tr style=\"text-align: right;\">\n",
              "      <th></th>\n",
              "      <th>author</th>\n",
              "      <th>quote</th>\n",
              "      <th>truth_value</th>\n",
              "    </tr>\n",
              "  </thead>\n",
              "  <tbody>\n",
              "    <tr>\n",
              "      <th>0</th>\n",
              "      <td>Facebook posts</td>\n",
              "      <td>Says the new coronavirus vaccines contain toxi...</td>\n",
              "      <td>pants-fire</td>\n",
              "    </tr>\n",
              "    <tr>\n",
              "      <th>1</th>\n",
              "      <td>Bloggers</td>\n",
              "      <td>21% of people are having serious adverse event...</td>\n",
              "      <td>false</td>\n",
              "    </tr>\n",
              "    <tr>\n",
              "      <th>2</th>\n",
              "      <td>Ted Cruz</td>\n",
              "      <td>Says that guidance urging vaccinated people to...</td>\n",
              "      <td>pants-fire</td>\n",
              "    </tr>\n",
              "    <tr>\n",
              "      <th>3</th>\n",
              "      <td>Facebook posts</td>\n",
              "      <td>A 2018 executive order gives Trump the ability...</td>\n",
              "      <td>pants-fire</td>\n",
              "    </tr>\n",
              "    <tr>\n",
              "      <th>4</th>\n",
              "      <td>Facebook posts</td>\n",
              "      <td>President Donald Trump will hold his inaugurat...</td>\n",
              "      <td>pants-fire</td>\n",
              "    </tr>\n",
              "  </tbody>\n",
              "</table>\n",
              "</div>"
            ],
            "text/plain": [
              "           author  ... truth_value\n",
              "0  Facebook posts  ...  pants-fire\n",
              "1        Bloggers  ...       false\n",
              "2        Ted Cruz  ...  pants-fire\n",
              "3  Facebook posts  ...  pants-fire\n",
              "4  Facebook posts  ...  pants-fire\n",
              "\n",
              "[5 rows x 3 columns]"
            ]
          },
          "metadata": {
            "tags": []
          }
        },
        {
          "output_type": "display_data",
          "data": {
            "text/html": [
              "<div>\n",
              "<style scoped>\n",
              "    .dataframe tbody tr th:only-of-type {\n",
              "        vertical-align: middle;\n",
              "    }\n",
              "\n",
              "    .dataframe tbody tr th {\n",
              "        vertical-align: top;\n",
              "    }\n",
              "\n",
              "    .dataframe thead th {\n",
              "        text-align: right;\n",
              "    }\n",
              "</style>\n",
              "<table border=\"1\" class=\"dataframe\">\n",
              "  <thead>\n",
              "    <tr style=\"text-align: right;\">\n",
              "      <th></th>\n",
              "      <th>author</th>\n",
              "      <th>quote</th>\n",
              "      <th>truth_value</th>\n",
              "    </tr>\n",
              "  </thead>\n",
              "  <tbody>\n",
              "    <tr>\n",
              "      <th>count</th>\n",
              "      <td>18436</td>\n",
              "      <td>18436</td>\n",
              "      <td>18436</td>\n",
              "    </tr>\n",
              "    <tr>\n",
              "      <th>unique</th>\n",
              "      <td>4263</td>\n",
              "      <td>18413</td>\n",
              "      <td>9</td>\n",
              "    </tr>\n",
              "    <tr>\n",
              "      <th>top</th>\n",
              "      <td>Facebook posts</td>\n",
              "      <td>On changing the rules for filibusters on presi...</td>\n",
              "      <td>false</td>\n",
              "    </tr>\n",
              "    <tr>\n",
              "      <th>freq</th>\n",
              "      <td>1051</td>\n",
              "      <td>3</td>\n",
              "      <td>4240</td>\n",
              "    </tr>\n",
              "  </tbody>\n",
              "</table>\n",
              "</div>"
            ],
            "text/plain": [
              "                author  ... truth_value\n",
              "count            18436  ...       18436\n",
              "unique            4263  ...           9\n",
              "top     Facebook posts  ...       false\n",
              "freq              1051  ...        4240\n",
              "\n",
              "[4 rows x 3 columns]"
            ]
          },
          "metadata": {
            "tags": []
          }
        },
        {
          "output_type": "display_data",
          "data": {
            "text/plain": [
              "false          4240\n",
              "half-true      3265\n",
              "mostly-true    3088\n",
              "barely-true    3019\n",
              "true           2348\n",
              "pants-fire     2218\n",
              "full-flop       162\n",
              "half-flip        69\n",
              "no-flip          27\n",
              "Name: truth_value, dtype: int64"
            ]
          },
          "metadata": {
            "tags": []
          }
        }
      ]
    },
    {
      "cell_type": "markdown",
      "metadata": {
        "id": "cFamAE2wrddN"
      },
      "source": [
        "We aren't attempting to determine whether someone is changing their position. Thus we drop all target rows that are not focused on truth values specifically. "
      ]
    },
    {
      "cell_type": "code",
      "metadata": {
        "colab": {
          "base_uri": "https://localhost:8080/"
        },
        "id": "d8WtnI9RroB4",
        "outputId": "86ccdcce-270b-4e1e-ef6b-4b6bada5a472"
      },
      "source": [
        "drop1 = df.loc[df['truth_value'] == 'full-flop'].index\r\n",
        "drop2 = df.loc[df['truth_value'] == 'half-flip'].index\r\n",
        "drop3 = df.loc[df['truth_value'] == 'no-flip'].index\r\n",
        "\r\n",
        "dfFinal = df.drop(index = drop1.append(drop2).append(drop3))\r\n",
        "dfFinal['truth_value'].value_counts()"
      ],
      "execution_count": 132,
      "outputs": [
        {
          "output_type": "execute_result",
          "data": {
            "text/plain": [
              "false          4240\n",
              "half-true      3265\n",
              "mostly-true    3088\n",
              "barely-true    3019\n",
              "true           2348\n",
              "pants-fire     2218\n",
              "Name: truth_value, dtype: int64"
            ]
          },
          "metadata": {
            "tags": []
          },
          "execution_count": 132
        }
      ]
    },
    {
      "cell_type": "markdown",
      "metadata": {
        "id": "waAPQo1TlmEh"
      },
      "source": [
        "# Train Test Split Without Author"
      ]
    },
    {
      "cell_type": "code",
      "metadata": {
        "id": "VXgB612cloxp"
      },
      "source": [
        "X = dfFinal['quote']\r\n",
        "y = dfFinal['truth_value']\r\n",
        "\r\n",
        "X_train, X_test, y_train, y_test = train_test_split(X, y, test_size = .1)"
      ],
      "execution_count": 133,
      "outputs": []
    },
    {
      "cell_type": "code",
      "metadata": {
        "colab": {
          "base_uri": "https://localhost:8080/",
          "height": 70
        },
        "id": "XL8DqTmtbr4i",
        "outputId": "2d499a53-cbb0-4a49-e74d-c842f585e325"
      },
      "source": [
        "vectorizer = TextVectorization(max_tokens=19089  , output_sequence_length=100)\r\n",
        "vectorizer.adapt(np.array(X_train))\r\n",
        "\r\n",
        "vocab = vectorizer.get_vocabulary()\r\n",
        "vocab_index = dict(zip(vocab, range(len(vocab))))\r\n",
        "print('There are {} unique tokens in the dataset.'.format(len(vocab)))\r\n",
        "display(vocab[:10])\r\n",
        "len(vocab_index)"
      ],
      "execution_count": 134,
      "outputs": [
        {
          "output_type": "stream",
          "text": [
            "There are 18960 unique tokens in the dataset.\n"
          ],
          "name": "stdout"
        },
        {
          "output_type": "display_data",
          "data": {
            "text/plain": [
              "['', '[UNK]', 'the', 'in', 'of', 'to', 'a', 'and', 'says', 'for']"
            ]
          },
          "metadata": {
            "tags": []
          }
        },
        {
          "output_type": "execute_result",
          "data": {
            "text/plain": [
              "18960"
            ]
          },
          "metadata": {
            "tags": []
          },
          "execution_count": 134
        }
      ]
    },
    {
      "cell_type": "code",
      "metadata": {
        "id": "yBPk0WU-g4FT"
      },
      "source": [
        "pathToGlove = 'drive/MyDrive/NLP Open Source Models/Glove/'\r\n",
        "\r\n",
        "glove = {}\r\n",
        "with open(pathToGlove+'glove.6B.100d.txt') as f:\r\n",
        "    for line in f:\r\n",
        "        word, coefs = line.split(maxsplit=1)\r\n",
        "        coefs = np.fromstring(coefs, \"f\", sep=\" \")\r\n",
        "        glove[word] = coefs"
      ],
      "execution_count": 135,
      "outputs": []
    },
    {
      "cell_type": "code",
      "metadata": {
        "colab": {
          "base_uri": "https://localhost:8080/"
        },
        "id": "yFq_l1XDDhhw",
        "outputId": "cdf92c68-24d8-4770-a542-2209b3630b41"
      },
      "source": [
        "num_tokens = len(vocab)\r\n",
        "embedding_dim = 100\r\n",
        "hits = 0\r\n",
        "misses = 0\r\n",
        "\r\n",
        "# Prepare embedding matrix\r\n",
        "embedding_matrix = np.zeros((num_tokens, embedding_dim))\r\n",
        "for word, i in vocab_index.items():\r\n",
        "    embedding_vector = glove.get(word)\r\n",
        "    if embedding_vector is not None:\r\n",
        "        # Words not found in embedding index will be all-zeros.\r\n",
        "        # This includes the representation for \"padding\" and \"OOV\"\r\n",
        "        embedding_matrix[i] = embedding_vector\r\n",
        "        hits += 1\r\n",
        "    else:\r\n",
        "        misses += 1\r\n",
        "print(\"Converted %d words (%d misses)\" % (hits, misses))\r\n",
        "input_dim = embedding_matrix.shape[0]"
      ],
      "execution_count": 136,
      "outputs": [
        {
          "output_type": "stream",
          "text": [
            "Converted 15232 words (3728 misses)\n"
          ],
          "name": "stdout"
        }
      ]
    },
    {
      "cell_type": "code",
      "metadata": {
        "id": "oAg8qi18l5xQ",
        "colab": {
          "base_uri": "https://localhost:8080/"
        },
        "outputId": "fa681c18-36c0-4d01-8aae-7ba20590364c"
      },
      "source": [
        "y_train_OH = pd.get_dummies(y_train).values\r\n",
        "y_test_OH = pd.get_dummies(y_test).values\r\n",
        "\r\n",
        "tokenizer = text.Tokenizer(num_words=18960)\r\n",
        "tokenizer.fit_on_texts(list(X_train))\r\n",
        "list_tokenized_quotes = tokenizer.texts_to_sequences(X_train)\r\n",
        "X_train_tokens = sequence.pad_sequences(list_tokenized_quotes, maxlen=100)\r\n",
        "num_tokens = X_train_tokens.shape[0]\r\n",
        "print(X_train_tokens.shape)"
      ],
      "execution_count": 137,
      "outputs": [
        {
          "output_type": "stream",
          "text": [
            "(16360, 100)\n"
          ],
          "name": "stdout"
        }
      ]
    },
    {
      "cell_type": "code",
      "metadata": {
        "colab": {
          "base_uri": "https://localhost:8080/"
        },
        "id": "y5GB-atUhjxK",
        "outputId": "2a1dbd37-2d19-4512-c6c4-ea8055e51938"
      },
      "source": [
        "model = keras.models.Model()\r\n",
        "input = keras.Input(shape=(1,), dtype=\"string\")\r\n",
        "x = vectorizer(input)\r\n",
        "x = Embedding(\r\n",
        "      input_dim = embedding_matrix.shape[0],\r\n",
        "      output_dim = 100,\r\n",
        "      embeddings_initializer=keras.initializers.Constant(embedding_matrix),\r\n",
        "      trainable=True,\r\n",
        "    )(x)\r\n",
        "x = LSTM(100, return_sequences=True)(x)\r\n",
        "x = GlobalAveragePooling1D()(x)\r\n",
        "x = Dense(\r\n",
        "      100, \r\n",
        "      activation='relu',\r\n",
        "      kernel_regularizer = keras.regularizers.L2()\r\n",
        "    )(x)\r\n",
        "x = Dense(\r\n",
        "      16, \r\n",
        "      activation='relu',\r\n",
        "      kernel_regularizer = keras.regularizers.L2()\r\n",
        "      )(x)\r\n",
        "output = Dense(6, activation='softmax')(x)\r\n",
        "\r\n",
        "model = keras.models.Model(input, output, name = 'glove_model')\r\n",
        "\r\n",
        "model.compile(\r\n",
        "    loss='categorical_crossentropy', \r\n",
        "    optimizer=keras.optimizers.RMSprop(momentum=.5), \r\n",
        "    metrics=[\r\n",
        "      keras.metrics.CategoricalAccuracy(),\r\n",
        "    ]\r\n",
        ")\r\n",
        "\r\n",
        "model.summary()"
      ],
      "execution_count": 156,
      "outputs": [
        {
          "output_type": "stream",
          "text": [
            "Model: \"glove_model\"\n",
            "_________________________________________________________________\n",
            "Layer (type)                 Output Shape              Param #   \n",
            "=================================================================\n",
            "input_25 (InputLayer)        [(None, 1)]               0         \n",
            "_________________________________________________________________\n",
            "text_vectorization_20 (TextV (None, 100)               0         \n",
            "_________________________________________________________________\n",
            "embedding_36 (Embedding)     (None, 100, 100)          1896000   \n",
            "_________________________________________________________________\n",
            "lstm_30 (LSTM)               (None, 100, 100)          80400     \n",
            "_________________________________________________________________\n",
            "global_average_pooling1d_29  (None, 100)               0         \n",
            "_________________________________________________________________\n",
            "dense_80 (Dense)             (None, 100)               10100     \n",
            "_________________________________________________________________\n",
            "dense_81 (Dense)             (None, 16)                1616      \n",
            "_________________________________________________________________\n",
            "dense_82 (Dense)             (None, 6)                 102       \n",
            "=================================================================\n",
            "Total params: 1,988,218\n",
            "Trainable params: 1,988,218\n",
            "Non-trainable params: 0\n",
            "_________________________________________________________________\n"
          ],
          "name": "stdout"
        }
      ]
    },
    {
      "cell_type": "code",
      "metadata": {
        "colab": {
          "base_uri": "https://localhost:8080/"
        },
        "id": "x4jsEIGepU0r",
        "outputId": "23815f9a-4de9-4bdc-996d-0e4c442e3e33"
      },
      "source": [
        "modelHistory = model.fit(\r\n",
        "    X_train, \r\n",
        "    y_train_OH, \r\n",
        "    epochs=100, \r\n",
        "    batch_size=64, \r\n",
        "    validation_split=0.1,)"
      ],
      "execution_count": 157,
      "outputs": [
        {
          "output_type": "stream",
          "text": [
            "Epoch 1/100\n",
            "231/231 [==============================] - 5s 14ms/step - loss: 2.1304 - categorical_accuracy: 0.2290 - val_loss: 1.7797 - val_categorical_accuracy: 0.2323\n",
            "Epoch 2/100\n",
            "231/231 [==============================] - 3s 11ms/step - loss: 1.7672 - categorical_accuracy: 0.2304 - val_loss: 1.7750 - val_categorical_accuracy: 0.2323\n",
            "Epoch 3/100\n",
            "231/231 [==============================] - 3s 11ms/step - loss: 1.7693 - categorical_accuracy: 0.2332 - val_loss: 1.7870 - val_categorical_accuracy: 0.2323\n",
            "Epoch 4/100\n",
            "231/231 [==============================] - 3s 12ms/step - loss: 1.7702 - categorical_accuracy: 0.2291 - val_loss: 1.7746 - val_categorical_accuracy: 0.2323\n",
            "Epoch 5/100\n",
            "231/231 [==============================] - 3s 11ms/step - loss: 1.7706 - categorical_accuracy: 0.2286 - val_loss: 1.7759 - val_categorical_accuracy: 0.2323\n",
            "Epoch 6/100\n",
            "231/231 [==============================] - 3s 11ms/step - loss: 1.7679 - categorical_accuracy: 0.2337 - val_loss: 1.7745 - val_categorical_accuracy: 0.2323\n",
            "Epoch 7/100\n",
            "231/231 [==============================] - 3s 11ms/step - loss: 1.7656 - categorical_accuracy: 0.2363 - val_loss: 1.7756 - val_categorical_accuracy: 0.2323\n",
            "Epoch 8/100\n",
            "231/231 [==============================] - 3s 11ms/step - loss: 1.7692 - categorical_accuracy: 0.2310 - val_loss: 1.7751 - val_categorical_accuracy: 0.2323\n",
            "Epoch 9/100\n",
            "231/231 [==============================] - 3s 11ms/step - loss: 1.7695 - categorical_accuracy: 0.2316 - val_loss: 1.7762 - val_categorical_accuracy: 0.2323\n",
            "Epoch 10/100\n",
            "231/231 [==============================] - 3s 11ms/step - loss: 1.7663 - categorical_accuracy: 0.2364 - val_loss: 1.7769 - val_categorical_accuracy: 0.2323\n",
            "Epoch 11/100\n",
            "231/231 [==============================] - 3s 11ms/step - loss: 1.7685 - categorical_accuracy: 0.2318 - val_loss: 1.7742 - val_categorical_accuracy: 0.2323\n",
            "Epoch 12/100\n",
            "231/231 [==============================] - 3s 11ms/step - loss: 1.7674 - categorical_accuracy: 0.2356 - val_loss: 1.7762 - val_categorical_accuracy: 0.2323\n",
            "Epoch 13/100\n",
            "231/231 [==============================] - 3s 11ms/step - loss: 1.7684 - categorical_accuracy: 0.2339 - val_loss: 1.7746 - val_categorical_accuracy: 0.2323\n",
            "Epoch 14/100\n",
            "231/231 [==============================] - 3s 11ms/step - loss: 1.7599 - categorical_accuracy: 0.2287 - val_loss: 1.7601 - val_categorical_accuracy: 0.2066\n",
            "Epoch 15/100\n",
            "231/231 [==============================] - 3s 11ms/step - loss: 1.7425 - categorical_accuracy: 0.2360 - val_loss: 1.7342 - val_categorical_accuracy: 0.2323\n",
            "Epoch 16/100\n",
            "231/231 [==============================] - 3s 11ms/step - loss: 1.7417 - categorical_accuracy: 0.2358 - val_loss: 1.7335 - val_categorical_accuracy: 0.2323\n",
            "Epoch 17/100\n",
            "231/231 [==============================] - 3s 11ms/step - loss: 1.7202 - categorical_accuracy: 0.2379 - val_loss: 1.7224 - val_categorical_accuracy: 0.2402\n",
            "Epoch 18/100\n",
            "231/231 [==============================] - 3s 13ms/step - loss: 1.7142 - categorical_accuracy: 0.2379 - val_loss: 1.7140 - val_categorical_accuracy: 0.2598\n",
            "Epoch 19/100\n",
            "231/231 [==============================] - 3s 11ms/step - loss: 1.7131 - categorical_accuracy: 0.2454 - val_loss: 1.7108 - val_categorical_accuracy: 0.2463\n",
            "Epoch 20/100\n",
            "231/231 [==============================] - 3s 11ms/step - loss: 1.6996 - categorical_accuracy: 0.2486 - val_loss: 1.7126 - val_categorical_accuracy: 0.2457\n",
            "Epoch 21/100\n",
            "231/231 [==============================] - 3s 11ms/step - loss: 1.7000 - categorical_accuracy: 0.2580 - val_loss: 1.7396 - val_categorical_accuracy: 0.2323\n",
            "Epoch 22/100\n",
            "231/231 [==============================] - 3s 11ms/step - loss: 1.6856 - categorical_accuracy: 0.2630 - val_loss: 1.7025 - val_categorical_accuracy: 0.2561\n",
            "Epoch 23/100\n",
            "231/231 [==============================] - 3s 11ms/step - loss: 1.6837 - categorical_accuracy: 0.2631 - val_loss: 1.6972 - val_categorical_accuracy: 0.2665\n",
            "Epoch 24/100\n",
            "231/231 [==============================] - 3s 11ms/step - loss: 1.6785 - categorical_accuracy: 0.2723 - val_loss: 1.7008 - val_categorical_accuracy: 0.2622\n",
            "Epoch 25/100\n",
            "231/231 [==============================] - 3s 11ms/step - loss: 1.6727 - categorical_accuracy: 0.2716 - val_loss: 1.7006 - val_categorical_accuracy: 0.2738\n",
            "Epoch 26/100\n",
            "231/231 [==============================] - 3s 11ms/step - loss: 1.6752 - categorical_accuracy: 0.2792 - val_loss: 1.6994 - val_categorical_accuracy: 0.2714\n",
            "Epoch 27/100\n",
            "231/231 [==============================] - 3s 11ms/step - loss: 1.6571 - categorical_accuracy: 0.2816 - val_loss: 1.6988 - val_categorical_accuracy: 0.2494\n",
            "Epoch 28/100\n",
            "231/231 [==============================] - 3s 11ms/step - loss: 1.6656 - categorical_accuracy: 0.2671 - val_loss: 1.6919 - val_categorical_accuracy: 0.2708\n",
            "Epoch 29/100\n",
            "231/231 [==============================] - 3s 11ms/step - loss: 1.6482 - categorical_accuracy: 0.2835 - val_loss: 1.7112 - val_categorical_accuracy: 0.2610\n",
            "Epoch 30/100\n",
            "231/231 [==============================] - 3s 11ms/step - loss: 1.6411 - categorical_accuracy: 0.2803 - val_loss: 1.6730 - val_categorical_accuracy: 0.2696\n",
            "Epoch 31/100\n",
            "231/231 [==============================] - 3s 12ms/step - loss: 1.6325 - categorical_accuracy: 0.2906 - val_loss: 1.6868 - val_categorical_accuracy: 0.2628\n",
            "Epoch 32/100\n",
            "231/231 [==============================] - 3s 11ms/step - loss: 1.6325 - categorical_accuracy: 0.2905 - val_loss: 1.6780 - val_categorical_accuracy: 0.2622\n",
            "Epoch 33/100\n",
            "231/231 [==============================] - 3s 11ms/step - loss: 1.6136 - categorical_accuracy: 0.3025 - val_loss: 1.6839 - val_categorical_accuracy: 0.2616\n",
            "Epoch 34/100\n",
            "231/231 [==============================] - 3s 11ms/step - loss: 1.6182 - categorical_accuracy: 0.2912 - val_loss: 1.6890 - val_categorical_accuracy: 0.2751\n",
            "Epoch 35/100\n",
            "231/231 [==============================] - 3s 12ms/step - loss: 1.6010 - categorical_accuracy: 0.3091 - val_loss: 1.6782 - val_categorical_accuracy: 0.2653\n",
            "Epoch 36/100\n",
            "231/231 [==============================] - 3s 12ms/step - loss: 1.5873 - categorical_accuracy: 0.3060 - val_loss: 1.6805 - val_categorical_accuracy: 0.2573\n",
            "Epoch 37/100\n",
            "231/231 [==============================] - 3s 12ms/step - loss: 1.5762 - categorical_accuracy: 0.3140 - val_loss: 1.6925 - val_categorical_accuracy: 0.2732\n",
            "Epoch 38/100\n",
            "231/231 [==============================] - 3s 11ms/step - loss: 1.5717 - categorical_accuracy: 0.3157 - val_loss: 1.6978 - val_categorical_accuracy: 0.2683\n",
            "Epoch 39/100\n",
            "231/231 [==============================] - 3s 11ms/step - loss: 1.5556 - categorical_accuracy: 0.3199 - val_loss: 1.7055 - val_categorical_accuracy: 0.2671\n",
            "Epoch 40/100\n",
            "231/231 [==============================] - 3s 11ms/step - loss: 1.5425 - categorical_accuracy: 0.3288 - val_loss: 1.7121 - val_categorical_accuracy: 0.2830\n",
            "Epoch 41/100\n",
            "231/231 [==============================] - 3s 12ms/step - loss: 1.5323 - categorical_accuracy: 0.3270 - val_loss: 1.7430 - val_categorical_accuracy: 0.2665\n",
            "Epoch 42/100\n",
            "231/231 [==============================] - 3s 11ms/step - loss: 1.5256 - categorical_accuracy: 0.3280 - val_loss: 1.7341 - val_categorical_accuracy: 0.2769\n",
            "Epoch 43/100\n",
            "231/231 [==============================] - 3s 11ms/step - loss: 1.5158 - categorical_accuracy: 0.3403 - val_loss: 1.7364 - val_categorical_accuracy: 0.2671\n",
            "Epoch 44/100\n",
            "231/231 [==============================] - 3s 11ms/step - loss: 1.4928 - categorical_accuracy: 0.3486 - val_loss: 1.7512 - val_categorical_accuracy: 0.2708\n",
            "Epoch 45/100\n",
            "231/231 [==============================] - 3s 11ms/step - loss: 1.4704 - categorical_accuracy: 0.3549 - val_loss: 1.7835 - val_categorical_accuracy: 0.2622\n",
            "Epoch 46/100\n",
            "231/231 [==============================] - 3s 11ms/step - loss: 1.4516 - categorical_accuracy: 0.3764 - val_loss: 1.7892 - val_categorical_accuracy: 0.2689\n",
            "Epoch 47/100\n",
            "231/231 [==============================] - 3s 12ms/step - loss: 1.4237 - categorical_accuracy: 0.3907 - val_loss: 1.8301 - val_categorical_accuracy: 0.2531\n",
            "Epoch 48/100\n",
            "231/231 [==============================] - 3s 11ms/step - loss: 1.4088 - categorical_accuracy: 0.3983 - val_loss: 1.8119 - val_categorical_accuracy: 0.2463\n",
            "Epoch 49/100\n",
            "231/231 [==============================] - 3s 11ms/step - loss: 1.3991 - categorical_accuracy: 0.4001 - val_loss: 1.8554 - val_categorical_accuracy: 0.2414\n",
            "Epoch 50/100\n",
            "231/231 [==============================] - 3s 11ms/step - loss: 1.3806 - categorical_accuracy: 0.4215 - val_loss: 1.9144 - val_categorical_accuracy: 0.2512\n",
            "Epoch 51/100\n",
            "231/231 [==============================] - 3s 11ms/step - loss: 1.3630 - categorical_accuracy: 0.4256 - val_loss: 1.9940 - val_categorical_accuracy: 0.2482\n",
            "Epoch 52/100\n",
            "231/231 [==============================] - 3s 11ms/step - loss: 1.3529 - categorical_accuracy: 0.4419 - val_loss: 2.0517 - val_categorical_accuracy: 0.2457\n",
            "Epoch 53/100\n",
            "231/231 [==============================] - 3s 11ms/step - loss: 1.3430 - categorical_accuracy: 0.4434 - val_loss: 1.9932 - val_categorical_accuracy: 0.2524\n",
            "Epoch 54/100\n",
            "231/231 [==============================] - 3s 11ms/step - loss: 1.3017 - categorical_accuracy: 0.4659 - val_loss: 2.0645 - val_categorical_accuracy: 0.2421\n",
            "Epoch 55/100\n",
            "231/231 [==============================] - 3s 11ms/step - loss: 1.2916 - categorical_accuracy: 0.4784 - val_loss: 2.0953 - val_categorical_accuracy: 0.2421\n",
            "Epoch 56/100\n",
            "231/231 [==============================] - 3s 12ms/step - loss: 1.2922 - categorical_accuracy: 0.4751 - val_loss: 2.1638 - val_categorical_accuracy: 0.2494\n",
            "Epoch 57/100\n",
            "231/231 [==============================] - 3s 13ms/step - loss: 1.2355 - categorical_accuracy: 0.5081 - val_loss: 2.0735 - val_categorical_accuracy: 0.2476\n",
            "Epoch 58/100\n",
            "231/231 [==============================] - 3s 13ms/step - loss: 1.2168 - categorical_accuracy: 0.5135 - val_loss: 2.2780 - val_categorical_accuracy: 0.2482\n",
            "Epoch 59/100\n",
            "231/231 [==============================] - 3s 13ms/step - loss: 1.2207 - categorical_accuracy: 0.5129 - val_loss: 2.2669 - val_categorical_accuracy: 0.2408\n",
            "Epoch 60/100\n",
            "231/231 [==============================] - 3s 12ms/step - loss: 1.1998 - categorical_accuracy: 0.5250 - val_loss: 2.2020 - val_categorical_accuracy: 0.2427\n",
            "Epoch 61/100\n",
            "231/231 [==============================] - 3s 11ms/step - loss: 1.1753 - categorical_accuracy: 0.5415 - val_loss: 2.3012 - val_categorical_accuracy: 0.2378\n",
            "Epoch 62/100\n",
            "231/231 [==============================] - 3s 11ms/step - loss: 1.1719 - categorical_accuracy: 0.5451 - val_loss: 2.2806 - val_categorical_accuracy: 0.2304\n",
            "Epoch 63/100\n",
            "231/231 [==============================] - 3s 11ms/step - loss: 1.1708 - categorical_accuracy: 0.5422 - val_loss: 2.2787 - val_categorical_accuracy: 0.2518\n",
            "Epoch 64/100\n",
            "231/231 [==============================] - 3s 11ms/step - loss: 1.1182 - categorical_accuracy: 0.5662 - val_loss: 2.3509 - val_categorical_accuracy: 0.2311\n",
            "Epoch 65/100\n",
            "231/231 [==============================] - 3s 11ms/step - loss: 1.1087 - categorical_accuracy: 0.5670 - val_loss: 2.4319 - val_categorical_accuracy: 0.2292\n",
            "Epoch 66/100\n",
            "231/231 [==============================] - 3s 11ms/step - loss: 1.0856 - categorical_accuracy: 0.5855 - val_loss: 2.4835 - val_categorical_accuracy: 0.2390\n",
            "Epoch 67/100\n",
            "231/231 [==============================] - 3s 11ms/step - loss: 1.0596 - categorical_accuracy: 0.5953 - val_loss: 2.4574 - val_categorical_accuracy: 0.2243\n",
            "Epoch 68/100\n",
            "231/231 [==============================] - 3s 11ms/step - loss: 1.0502 - categorical_accuracy: 0.5991 - val_loss: 2.5723 - val_categorical_accuracy: 0.2390\n",
            "Epoch 69/100\n",
            "231/231 [==============================] - 3s 11ms/step - loss: 1.0474 - categorical_accuracy: 0.5961 - val_loss: 2.4427 - val_categorical_accuracy: 0.2335\n",
            "Epoch 70/100\n",
            "231/231 [==============================] - 3s 11ms/step - loss: 1.0187 - categorical_accuracy: 0.6092 - val_loss: 2.5290 - val_categorical_accuracy: 0.2335\n",
            "Epoch 71/100\n",
            "231/231 [==============================] - 3s 11ms/step - loss: 1.0039 - categorical_accuracy: 0.6134 - val_loss: 2.6244 - val_categorical_accuracy: 0.2268\n",
            "Epoch 72/100\n",
            "231/231 [==============================] - 3s 12ms/step - loss: 1.0103 - categorical_accuracy: 0.6091 - val_loss: 2.7126 - val_categorical_accuracy: 0.2482\n",
            "Epoch 73/100\n",
            "231/231 [==============================] - 3s 11ms/step - loss: 0.9822 - categorical_accuracy: 0.6126 - val_loss: 2.7482 - val_categorical_accuracy: 0.2414\n",
            "Epoch 74/100\n",
            "231/231 [==============================] - 3s 11ms/step - loss: 0.9752 - categorical_accuracy: 0.6212 - val_loss: 2.7832 - val_categorical_accuracy: 0.2524\n",
            "Epoch 75/100\n",
            "231/231 [==============================] - 3s 12ms/step - loss: 0.9535 - categorical_accuracy: 0.6272 - val_loss: 2.7193 - val_categorical_accuracy: 0.2427\n",
            "Epoch 76/100\n",
            "231/231 [==============================] - 3s 11ms/step - loss: 0.9327 - categorical_accuracy: 0.6308 - val_loss: 2.8513 - val_categorical_accuracy: 0.2347\n",
            "Epoch 77/100\n",
            "231/231 [==============================] - 3s 12ms/step - loss: 0.9223 - categorical_accuracy: 0.6410 - val_loss: 2.7388 - val_categorical_accuracy: 0.2341\n",
            "Epoch 78/100\n",
            "231/231 [==============================] - 3s 11ms/step - loss: 0.9292 - categorical_accuracy: 0.6336 - val_loss: 2.7957 - val_categorical_accuracy: 0.2451\n",
            "Epoch 79/100\n",
            "231/231 [==============================] - 3s 12ms/step - loss: 0.9272 - categorical_accuracy: 0.6365 - val_loss: 2.9102 - val_categorical_accuracy: 0.2469\n",
            "Epoch 80/100\n",
            "231/231 [==============================] - 3s 11ms/step - loss: 0.9166 - categorical_accuracy: 0.6371 - val_loss: 2.8305 - val_categorical_accuracy: 0.2451\n",
            "Epoch 81/100\n",
            "231/231 [==============================] - 3s 11ms/step - loss: 0.8851 - categorical_accuracy: 0.6542 - val_loss: 2.9374 - val_categorical_accuracy: 0.2396\n",
            "Epoch 82/100\n",
            "231/231 [==============================] - 3s 11ms/step - loss: 0.8859 - categorical_accuracy: 0.6567 - val_loss: 2.8965 - val_categorical_accuracy: 0.2268\n",
            "Epoch 83/100\n",
            "231/231 [==============================] - 3s 12ms/step - loss: 0.8769 - categorical_accuracy: 0.6578 - val_loss: 2.8257 - val_categorical_accuracy: 0.2329\n",
            "Epoch 84/100\n",
            "231/231 [==============================] - 3s 12ms/step - loss: 0.8568 - categorical_accuracy: 0.6607 - val_loss: 2.8611 - val_categorical_accuracy: 0.2359\n",
            "Epoch 85/100\n",
            "231/231 [==============================] - 3s 11ms/step - loss: 0.8584 - categorical_accuracy: 0.6605 - val_loss: 2.8196 - val_categorical_accuracy: 0.2317\n",
            "Epoch 86/100\n",
            "231/231 [==============================] - 3s 12ms/step - loss: 0.8472 - categorical_accuracy: 0.6621 - val_loss: 2.9477 - val_categorical_accuracy: 0.2317\n",
            "Epoch 87/100\n",
            "231/231 [==============================] - 3s 12ms/step - loss: 0.8375 - categorical_accuracy: 0.6658 - val_loss: 2.8544 - val_categorical_accuracy: 0.2262\n",
            "Epoch 88/100\n",
            "231/231 [==============================] - 3s 11ms/step - loss: 0.8283 - categorical_accuracy: 0.6671 - val_loss: 2.8176 - val_categorical_accuracy: 0.2366\n",
            "Epoch 89/100\n",
            "231/231 [==============================] - 3s 12ms/step - loss: 0.8262 - categorical_accuracy: 0.6716 - val_loss: 2.9835 - val_categorical_accuracy: 0.2427\n",
            "Epoch 90/100\n",
            "231/231 [==============================] - 3s 11ms/step - loss: 0.8287 - categorical_accuracy: 0.6700 - val_loss: 2.9694 - val_categorical_accuracy: 0.2317\n",
            "Epoch 91/100\n",
            "231/231 [==============================] - 3s 12ms/step - loss: 0.8016 - categorical_accuracy: 0.6824 - val_loss: 2.9226 - val_categorical_accuracy: 0.2427\n",
            "Epoch 92/100\n",
            "231/231 [==============================] - 3s 11ms/step - loss: 0.8104 - categorical_accuracy: 0.6772 - val_loss: 3.0907 - val_categorical_accuracy: 0.2359\n",
            "Epoch 93/100\n",
            "231/231 [==============================] - 3s 12ms/step - loss: 0.8075 - categorical_accuracy: 0.6790 - val_loss: 3.0861 - val_categorical_accuracy: 0.2384\n",
            "Epoch 94/100\n",
            "231/231 [==============================] - 3s 11ms/step - loss: 0.7943 - categorical_accuracy: 0.6868 - val_loss: 2.9608 - val_categorical_accuracy: 0.2384\n",
            "Epoch 95/100\n",
            "231/231 [==============================] - 3s 11ms/step - loss: 0.7925 - categorical_accuracy: 0.6925 - val_loss: 2.9809 - val_categorical_accuracy: 0.2396\n",
            "Epoch 96/100\n",
            "231/231 [==============================] - 3s 12ms/step - loss: 0.7948 - categorical_accuracy: 0.6837 - val_loss: 3.0898 - val_categorical_accuracy: 0.2408\n",
            "Epoch 97/100\n",
            "231/231 [==============================] - 3s 12ms/step - loss: 0.7748 - categorical_accuracy: 0.6897 - val_loss: 3.0546 - val_categorical_accuracy: 0.2402\n",
            "Epoch 98/100\n",
            "231/231 [==============================] - 3s 12ms/step - loss: 0.7755 - categorical_accuracy: 0.6857 - val_loss: 2.9626 - val_categorical_accuracy: 0.2469\n",
            "Epoch 99/100\n",
            "231/231 [==============================] - 3s 11ms/step - loss: 0.7737 - categorical_accuracy: 0.6891 - val_loss: 2.8991 - val_categorical_accuracy: 0.2329\n",
            "Epoch 100/100\n",
            "231/231 [==============================] - 3s 12ms/step - loss: 0.7754 - categorical_accuracy: 0.6876 - val_loss: 3.0047 - val_categorical_accuracy: 0.2298\n"
          ],
          "name": "stdout"
        }
      ]
    },
    {
      "cell_type": "code",
      "metadata": {
        "id": "ORGZr3O-Xwyk"
      },
      "source": [
        "def create_model_visuals(model, X_train, y_train, X_test, y_test, batch_size, epochs, train = True,kwargs = {}):\r\n",
        "  params = locals()\r\n",
        "  def confustion_matrix(y, y_hat, normalize = 'true'):\r\n",
        "    fig, ax = plt.subplots(1,1,figsize = (7,6))\r\n",
        "    matrix = skm.confusion_matrix(y, y_hat, normalize=normalize,)\r\n",
        "    sns.heatmap(matrix, cmap = 'Blues', annot=True, ax = ax)\r\n",
        "    ax.set(\r\n",
        "      title = 'Confustion Matrix',\r\n",
        "      xlabel = 'Predicted Label',\r\n",
        "      ylabel = 'True Label'\r\n",
        "    )\r\n",
        "  if train == True:\r\n",
        "    modelHistory = model.fit(\r\n",
        "        x = X_train, \r\n",
        "        y = y_train,\r\n",
        "        batch_size=batch_size,\r\n",
        "        epochs=epochs,\r\n",
        "        **kwargs)\r\n",
        "    model.evaluate(x = X_test, y = y_test)\r\n",
        "    dfModel = pd.DataFrame().from_dict(modelHistory.history)\r\n",
        "    fig, ((ax1,ax2),(ax3,ax4),(ax5, ax6)) = plt.subplots(nrows = 3,ncols = 2, figsize = (18,10))\r\n",
        "    dfModel.plot(y = ['loss', 'val_loss'],ax = ax1, title = 'Loss Metrics', xlabel = 'Training Generation', ylabel = 'Loss score');\r\n",
        "    dfModel.plot(y = ['accuracy', 'val_accuracy'],ax = ax2, title = 'Accuracy',xlabel = 'Training Generation', ylabel = 'Accuracy Percentage');\r\n",
        "    dfModel.plot(y = ['auc', 'val_auc'],ax = ax3, title = 'Area Under The Curve',xlabel = 'Training Generation', ylabel = 'Area Under The Curve');\r\n",
        "    dfModel.plot(y = ['square_hinge', 'val_square_hinge'],ax = ax4, title = 'Square Hinge',xlabel = 'Training Generation', ylabel = 'Square Hinge');\r\n",
        "    dfModel.plot(y = ['val_true_positives'],ax = ax5, title = 'Val True Positives',xlabel = 'Training Generation', ylabel = 'Number of True Positives');\r\n",
        "    dfModel.plot(y = [ 'val_true_negatives'],ax = ax6, title = 'Val True Negatives',xlabel = 'Training Generation', ylabel = 'Number of True Negatives');\r\n",
        "    plt.tight_layout()\r\n",
        "    plt.show()\r\n",
        "     \r\n",
        "  else:\r\n",
        "    dfModel = None\r\n",
        " \r\n",
        "  # y_test_hat = np.where(model.predict(X_test, y_test) > .39, 1,0).flatten()\r\n",
        "  # y_test = testGenerator.y\r\n",
        "  # confustion_matrix(y_test, y_test_hat)\r\n",
        "  # dfTest = pd.DataFrame.from_dict(skm.classification_report(y_test, y_test_hat, output_dict=True))\r\n",
        "  # display(dfTest)\r\n",
        " \r\n",
        "  return dfModel,params"
      ],
      "execution_count": 139,
      "outputs": []
    },
    {
      "cell_type": "code",
      "metadata": {
        "colab": {
          "base_uri": "https://localhost:8080/",
          "height": 367
        },
        "id": "hCXtTQM-X6ZF",
        "outputId": "fed219db-14ed-450a-853d-93b9ab96c1c2"
      },
      "source": [
        "# we define the filepath where any results will be saved\r\n",
        "firstModel_filepath = os.path.join('first_model')\r\n",
        "\r\n",
        "# the Callbacks for keras.Model.fit() method. See Keras documentation for more info.\r\n",
        "firstModelEarlyStop = EarlyStopping(patience= 10, mode = 'auto', restore_best_weights=False, monitor='val_loss')\r\n",
        "firstModelCheckpoint = ModelCheckpoint(firstModel_filepath,save_best_only=True, monitor='val_loss')\r\n",
        "firstModelLRAdjust = ReduceLROnPlateau(monitor = 'val_loss', factor = .5, patience=2, min_delta=.00000000001)\r\n",
        "\r\n",
        "# This cell runs the fitting \r\n",
        "firstModelHistory,params = create_model_visuals(\r\n",
        "    model = model, \r\n",
        "    X_train=np.array(X_train), \r\n",
        "    y_train = np.array(y_train_OH),\r\n",
        "    X_test = np.array(X_train),\r\n",
        "    y_test = np.array(y_test_OH),\r\n",
        "    epochs = 150, \r\n",
        "    batch_size=64,\r\n",
        "    kwargs = {\r\n",
        "        'validation_split': .1,\r\n",
        "        'callbacks':[firstModelCheckpoint, firstModelEarlyStop, firstModelLRAdjust]})"
      ],
      "execution_count": 127,
      "outputs": [
        {
          "output_type": "stream",
          "text": [
            "Epoch 1/150\n"
          ],
          "name": "stdout"
        },
        {
          "output_type": "error",
          "ename": "ValueError",
          "evalue": "ignored",
          "traceback": [
            "\u001b[0;31m---------------------------------------------------------------------------\u001b[0m",
            "\u001b[0;31mValueError\u001b[0m                                Traceback (most recent call last)",
            "\u001b[0;32m<ipython-input-127-e343eff0a05a>\u001b[0m in \u001b[0;36m<module>\u001b[0;34m()\u001b[0m\n\u001b[1;32m     18\u001b[0m     kwargs = {\n\u001b[1;32m     19\u001b[0m         \u001b[0;34m'validation_split'\u001b[0m\u001b[0;34m:\u001b[0m \u001b[0;36m.1\u001b[0m\u001b[0;34m,\u001b[0m\u001b[0;34m\u001b[0m\u001b[0;34m\u001b[0m\u001b[0m\n\u001b[0;32m---> 20\u001b[0;31m         'callbacks':[firstModelCheckpoint, firstModelEarlyStop, firstModelLRAdjust]})\n\u001b[0m",
            "\u001b[0;32m<ipython-input-126-e3995a3e9cf7>\u001b[0m in \u001b[0;36mcreate_model_visuals\u001b[0;34m(model, X_train, y_train, X_test, y_test, batch_size, epochs, train, kwargs)\u001b[0m\n\u001b[1;32m     16\u001b[0m         \u001b[0mbatch_size\u001b[0m\u001b[0;34m=\u001b[0m\u001b[0mbatch_size\u001b[0m\u001b[0;34m,\u001b[0m\u001b[0;34m\u001b[0m\u001b[0;34m\u001b[0m\u001b[0m\n\u001b[1;32m     17\u001b[0m         \u001b[0mepochs\u001b[0m\u001b[0;34m=\u001b[0m\u001b[0mepochs\u001b[0m\u001b[0;34m,\u001b[0m\u001b[0;34m\u001b[0m\u001b[0;34m\u001b[0m\u001b[0m\n\u001b[0;32m---> 18\u001b[0;31m         **kwargs)\n\u001b[0m\u001b[1;32m     19\u001b[0m     \u001b[0mmodel\u001b[0m\u001b[0;34m.\u001b[0m\u001b[0mevaluate\u001b[0m\u001b[0;34m(\u001b[0m\u001b[0mx\u001b[0m \u001b[0;34m=\u001b[0m \u001b[0mX_test\u001b[0m\u001b[0;34m,\u001b[0m \u001b[0my\u001b[0m \u001b[0;34m=\u001b[0m \u001b[0my_test\u001b[0m\u001b[0;34m)\u001b[0m\u001b[0;34m\u001b[0m\u001b[0;34m\u001b[0m\u001b[0m\n\u001b[1;32m     20\u001b[0m     \u001b[0mdfModel\u001b[0m \u001b[0;34m=\u001b[0m \u001b[0mpd\u001b[0m\u001b[0;34m.\u001b[0m\u001b[0mDataFrame\u001b[0m\u001b[0;34m(\u001b[0m\u001b[0;34m)\u001b[0m\u001b[0;34m.\u001b[0m\u001b[0mfrom_dict\u001b[0m\u001b[0;34m(\u001b[0m\u001b[0mmodelHistory\u001b[0m\u001b[0;34m.\u001b[0m\u001b[0mhistory\u001b[0m\u001b[0;34m)\u001b[0m\u001b[0;34m\u001b[0m\u001b[0;34m\u001b[0m\u001b[0m\n",
            "\u001b[0;32m/usr/local/lib/python3.6/dist-packages/tensorflow/python/keras/engine/training.py\u001b[0m in \u001b[0;36mfit\u001b[0;34m(self, x, y, batch_size, epochs, verbose, callbacks, validation_split, validation_data, shuffle, class_weight, sample_weight, initial_epoch, steps_per_epoch, validation_steps, validation_batch_size, validation_freq, max_queue_size, workers, use_multiprocessing)\u001b[0m\n\u001b[1;32m   1098\u001b[0m                 _r=1):\n\u001b[1;32m   1099\u001b[0m               \u001b[0mcallbacks\u001b[0m\u001b[0;34m.\u001b[0m\u001b[0mon_train_batch_begin\u001b[0m\u001b[0;34m(\u001b[0m\u001b[0mstep\u001b[0m\u001b[0;34m)\u001b[0m\u001b[0;34m\u001b[0m\u001b[0;34m\u001b[0m\u001b[0m\n\u001b[0;32m-> 1100\u001b[0;31m               \u001b[0mtmp_logs\u001b[0m \u001b[0;34m=\u001b[0m \u001b[0mself\u001b[0m\u001b[0;34m.\u001b[0m\u001b[0mtrain_function\u001b[0m\u001b[0;34m(\u001b[0m\u001b[0miterator\u001b[0m\u001b[0;34m)\u001b[0m\u001b[0;34m\u001b[0m\u001b[0;34m\u001b[0m\u001b[0m\n\u001b[0m\u001b[1;32m   1101\u001b[0m               \u001b[0;32mif\u001b[0m \u001b[0mdata_handler\u001b[0m\u001b[0;34m.\u001b[0m\u001b[0mshould_sync\u001b[0m\u001b[0;34m:\u001b[0m\u001b[0;34m\u001b[0m\u001b[0;34m\u001b[0m\u001b[0m\n\u001b[1;32m   1102\u001b[0m                 \u001b[0mcontext\u001b[0m\u001b[0;34m.\u001b[0m\u001b[0masync_wait\u001b[0m\u001b[0;34m(\u001b[0m\u001b[0;34m)\u001b[0m\u001b[0;34m\u001b[0m\u001b[0;34m\u001b[0m\u001b[0m\n",
            "\u001b[0;32m/usr/local/lib/python3.6/dist-packages/tensorflow/python/eager/def_function.py\u001b[0m in \u001b[0;36m__call__\u001b[0;34m(self, *args, **kwds)\u001b[0m\n\u001b[1;32m    826\u001b[0m     \u001b[0mtracing_count\u001b[0m \u001b[0;34m=\u001b[0m \u001b[0mself\u001b[0m\u001b[0;34m.\u001b[0m\u001b[0mexperimental_get_tracing_count\u001b[0m\u001b[0;34m(\u001b[0m\u001b[0;34m)\u001b[0m\u001b[0;34m\u001b[0m\u001b[0;34m\u001b[0m\u001b[0m\n\u001b[1;32m    827\u001b[0m     \u001b[0;32mwith\u001b[0m \u001b[0mtrace\u001b[0m\u001b[0;34m.\u001b[0m\u001b[0mTrace\u001b[0m\u001b[0;34m(\u001b[0m\u001b[0mself\u001b[0m\u001b[0;34m.\u001b[0m\u001b[0m_name\u001b[0m\u001b[0;34m)\u001b[0m \u001b[0;32mas\u001b[0m \u001b[0mtm\u001b[0m\u001b[0;34m:\u001b[0m\u001b[0;34m\u001b[0m\u001b[0;34m\u001b[0m\u001b[0m\n\u001b[0;32m--> 828\u001b[0;31m       \u001b[0mresult\u001b[0m \u001b[0;34m=\u001b[0m \u001b[0mself\u001b[0m\u001b[0;34m.\u001b[0m\u001b[0m_call\u001b[0m\u001b[0;34m(\u001b[0m\u001b[0;34m*\u001b[0m\u001b[0margs\u001b[0m\u001b[0;34m,\u001b[0m \u001b[0;34m**\u001b[0m\u001b[0mkwds\u001b[0m\u001b[0;34m)\u001b[0m\u001b[0;34m\u001b[0m\u001b[0;34m\u001b[0m\u001b[0m\n\u001b[0m\u001b[1;32m    829\u001b[0m       \u001b[0mcompiler\u001b[0m \u001b[0;34m=\u001b[0m \u001b[0;34m\"xla\"\u001b[0m \u001b[0;32mif\u001b[0m \u001b[0mself\u001b[0m\u001b[0;34m.\u001b[0m\u001b[0m_experimental_compile\u001b[0m \u001b[0;32melse\u001b[0m \u001b[0;34m\"nonXla\"\u001b[0m\u001b[0;34m\u001b[0m\u001b[0;34m\u001b[0m\u001b[0m\n\u001b[1;32m    830\u001b[0m       \u001b[0mnew_tracing_count\u001b[0m \u001b[0;34m=\u001b[0m \u001b[0mself\u001b[0m\u001b[0;34m.\u001b[0m\u001b[0mexperimental_get_tracing_count\u001b[0m\u001b[0;34m(\u001b[0m\u001b[0;34m)\u001b[0m\u001b[0;34m\u001b[0m\u001b[0;34m\u001b[0m\u001b[0m\n",
            "\u001b[0;32m/usr/local/lib/python3.6/dist-packages/tensorflow/python/eager/def_function.py\u001b[0m in \u001b[0;36m_call\u001b[0;34m(self, *args, **kwds)\u001b[0m\n\u001b[1;32m    862\u001b[0m       \u001b[0mresults\u001b[0m \u001b[0;34m=\u001b[0m \u001b[0mself\u001b[0m\u001b[0;34m.\u001b[0m\u001b[0m_stateful_fn\u001b[0m\u001b[0;34m(\u001b[0m\u001b[0;34m*\u001b[0m\u001b[0margs\u001b[0m\u001b[0;34m,\u001b[0m \u001b[0;34m**\u001b[0m\u001b[0mkwds\u001b[0m\u001b[0;34m)\u001b[0m\u001b[0;34m\u001b[0m\u001b[0;34m\u001b[0m\u001b[0m\n\u001b[1;32m    863\u001b[0m       \u001b[0;32mif\u001b[0m \u001b[0mself\u001b[0m\u001b[0;34m.\u001b[0m\u001b[0m_created_variables\u001b[0m\u001b[0;34m:\u001b[0m\u001b[0;34m\u001b[0m\u001b[0;34m\u001b[0m\u001b[0m\n\u001b[0;32m--> 864\u001b[0;31m         raise ValueError(\"Creating variables on a non-first call to a function\"\n\u001b[0m\u001b[1;32m    865\u001b[0m                          \" decorated with tf.function.\")\n\u001b[1;32m    866\u001b[0m       \u001b[0;32mreturn\u001b[0m \u001b[0mresults\u001b[0m\u001b[0;34m\u001b[0m\u001b[0;34m\u001b[0m\u001b[0m\n",
            "\u001b[0;31mValueError\u001b[0m: Creating variables on a non-first call to a function decorated with tf.function."
          ]
        }
      ]
    },
    {
      "cell_type": "code",
      "metadata": {
        "colab": {
          "base_uri": "https://localhost:8080/"
        },
        "id": "I1p1op3ldVir",
        "outputId": "24e751a6-1bd2-481c-80b5-5f7844a86a04"
      },
      "source": [
        "model.evaluate(X_test, y_test_OH)"
      ],
      "execution_count": 142,
      "outputs": [
        {
          "output_type": "stream",
          "text": [
            "57/57 [==============================] - 0s 5ms/step - loss: 9.8216 - categorical_accuracy: 0.2541\n"
          ],
          "name": "stdout"
        },
        {
          "output_type": "execute_result",
          "data": {
            "text/plain": [
              "[9.821587562561035, 0.2541254162788391]"
            ]
          },
          "metadata": {
            "tags": []
          },
          "execution_count": 142
        }
      ]
    },
    {
      "cell_type": "markdown",
      "metadata": {
        "id": "0eMVB4Q8BPvB"
      },
      "source": [
        "# Pending stuff"
      ]
    },
    {
      "cell_type": "markdown",
      "metadata": {
        "id": "aVrwLG4dlyKJ"
      },
      "source": [
        "## Baseline Model: Word2Vec Local Training?"
      ]
    },
    {
      "cell_type": "code",
      "metadata": {
        "id": "VstWsR_9_Oxe"
      },
      "source": [
        "model = Word2Vec(data, size=100, window=5, min_count=1, workers=4)"
      ],
      "execution_count": 55,
      "outputs": []
    },
    {
      "cell_type": "code",
      "metadata": {
        "colab": {
          "base_uri": "https://localhost:8080/"
        },
        "id": "RBZcDMKKdus6",
        "outputId": "6d642897-2916-494b-d402-8d91fc18f752"
      },
      "source": [
        "model.train(data, total_examples=model.corpus_count, epochs=10)"
      ],
      "execution_count": 56,
      "outputs": [
        {
          "output_type": "execute_result",
          "data": {
            "text/plain": [
              "(2966813, 3885650)"
            ]
          },
          "metadata": {
            "tags": []
          },
          "execution_count": 56
        }
      ]
    },
    {
      "cell_type": "code",
      "metadata": {
        "id": "X-QRehW-ePv3"
      },
      "source": [
        "wv = model.wv"
      ],
      "execution_count": 57,
      "outputs": []
    },
    {
      "cell_type": "code",
      "metadata": {
        "colab": {
          "base_uri": "https://localhost:8080/",
          "height": 598
        },
        "id": "13O1gyQ8eY4n",
        "outputId": "0b365926-4338-48ba-8d99-6a0212f76f6b"
      },
      "source": [
        "display(wv.most_similar(positive = [\"time\"]))\r\n",
        "display(wv['time'])\r\n"
      ],
      "execution_count": 62,
      "outputs": [
        {
          "output_type": "display_data",
          "data": {
            "text/plain": [
              "[('point', 0.7773004174232483),\n",
              " ('ex-president', 0.722303032875061),\n",
              " ('term', 0.6774725317955017),\n",
              " ('week', 0.674705445766449),\n",
              " ('century', 0.6672503352165222),\n",
              " ('point-in-time', 0.6590580940246582),\n",
              " ('president', 0.6516431570053101),\n",
              " ('decade', 0.6503779888153076),\n",
              " ('session', 0.6480398178100586),\n",
              " ('course', 0.6419240832328796)]"
            ]
          },
          "metadata": {
            "tags": []
          }
        },
        {
          "output_type": "display_data",
          "data": {
            "text/plain": [
              "array([ 0.76711375,  0.8935672 , -1.1876911 , -0.3295918 , -0.06705547,\n",
              "       -1.3076243 , -1.8133975 ,  0.69168943, -0.16471986,  0.71398264,\n",
              "       -0.24640153, -0.20698534, -0.95611113,  0.25964814,  0.050776  ,\n",
              "        0.972497  ,  1.6574346 , -0.13140863, -0.02349065,  1.2209971 ,\n",
              "       -1.508631  , -0.03084175,  1.026226  ,  0.32340807,  0.38479125,\n",
              "       -0.16057101, -0.3934429 , -0.6635785 , -0.06906135, -1.2750412 ,\n",
              "       -1.4661082 ,  1.3415856 , -1.1921365 ,  0.7172722 , -0.96247035,\n",
              "       -0.70197767,  0.70521677, -1.0516729 , -0.91379696,  0.268338  ,\n",
              "        0.6374075 ,  1.6403053 ,  1.2662332 , -0.8399998 , -1.1651558 ,\n",
              "       -0.833719  ,  0.8290142 , -1.4032991 ,  1.2890466 , -0.97319454,\n",
              "        0.8947347 ,  1.0041395 ,  1.3192818 ,  0.7980006 ,  0.96280426,\n",
              "       -0.72451246,  1.0957555 , -0.6391643 , -2.477614  , -0.30923206,\n",
              "        2.3254921 , -0.24521753,  0.31153694, -0.97788614,  0.12351059,\n",
              "       -0.91432196,  0.17733483, -2.1693728 ,  1.8002627 , -0.32380787,\n",
              "       -0.2503951 ,  1.5510982 , -1.8051736 ,  1.3088051 ,  0.03317047,\n",
              "        1.4599607 , -0.19010058,  2.6889555 , -0.6348496 , -0.23290546,\n",
              "       -0.92319983, -0.1676263 ,  0.6907545 , -1.4693683 ,  0.18863264,\n",
              "       -2.835685  ,  2.4023764 , -0.7456932 ,  0.03705272, -3.115587  ,\n",
              "        0.08280321, -0.8655299 ,  1.3532442 , -1.8439918 ,  1.5761743 ,\n",
              "       -0.7415153 ,  0.51091176,  3.157756  , -0.06627698,  0.21849068],\n",
              "      dtype=float32)"
            ]
          },
          "metadata": {
            "tags": []
          }
        },
        {
          "output_type": "stream",
          "text": [
            "\n",
            "There are 24360 unique tokens in the dataset.\n"
          ],
          "name": "stdout"
        }
      ]
    },
    {
      "cell_type": "markdown",
      "metadata": {
        "id": "svZP8F70l2Jl"
      },
      "source": [
        "## Glove Model Transer Learning"
      ]
    },
    {
      "cell_type": "code",
      "metadata": {
        "id": "faO_rW7OhGH5"
      },
      "source": [
        "# class W2vVectorizer(object):\r\n",
        "    \r\n",
        "#     def __init__(self, w2v):\r\n",
        "#         # Takes in a dictionary of words and vectors as input\r\n",
        "#         self.w2v = w2v\r\n",
        "#         if len(w2v) == 0:\r\n",
        "#             self.dimensions = 0\r\n",
        "#         else:\r\n",
        "#             self.dimensions = len(w2v[next(iter(glove))])\r\n",
        "    \r\n",
        "#     # Note: Even though it doesn't do anything, it's required that this object implement a fit method or else\r\n",
        "#     # it can't be used in a scikit-learn pipeline  \r\n",
        "#     def fit(self, X, y):\r\n",
        "#         return self\r\n",
        "            \r\n",
        "#     def transform(self, X):\r\n",
        "#         return np.array([\r\n",
        "#             np.mean([self.w2v[w] for w in words if w in self.w2v]\r\n",
        "#                    or [np.zeros(self.dimensions)], axis=0) for words in X])"
      ],
      "execution_count": null,
      "outputs": []
    }
  ]
}